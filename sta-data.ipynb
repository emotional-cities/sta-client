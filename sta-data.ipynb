{
 "cells": [
  {
   "cell_type": "code",
   "execution_count": 1,
   "id": "d255cf88",
   "metadata": {},
   "outputs": [],
   "source": [
    "import pandas as pd\n",
    "import os"
   ]
  },
  {
   "cell_type": "code",
   "execution_count": 2,
   "id": "5808b93a",
   "metadata": {},
   "outputs": [],
   "source": [
    "df = pd.read_csv ('CO2V2.Temperature.csv')\n",
    "#df = pd.read_csv ('CO2V2.Humidity.csv')\n",
    "#print(df)"
   ]
  },
  {
   "cell_type": "code",
   "execution_count": 3,
   "id": "776f5f7a",
   "metadata": {},
   "outputs": [
    {
     "data": {
      "text/html": [
       "<div>\n",
       "<style scoped>\n",
       "    .dataframe tbody tr th:only-of-type {\n",
       "        vertical-align: middle;\n",
       "    }\n",
       "\n",
       "    .dataframe tbody tr th {\n",
       "        vertical-align: top;\n",
       "    }\n",
       "\n",
       "    .dataframe thead th {\n",
       "        text-align: right;\n",
       "    }\n",
       "</style>\n",
       "<table border=\"1\" class=\"dataframe\">\n",
       "  <thead>\n",
       "    <tr style=\"text-align: right;\">\n",
       "      <th></th>\n",
       "      <th>Seconds</th>\n",
       "      <th>Latitude</th>\n",
       "      <th>Longitude</th>\n",
       "      <th>Elevation</th>\n",
       "      <th>Data</th>\n",
       "    </tr>\n",
       "  </thead>\n",
       "  <tbody>\n",
       "    <tr>\n",
       "      <th>0</th>\n",
       "      <td>2022-09-22T09:30:19.708989Z</td>\n",
       "      <td>51.539353</td>\n",
       "      <td>-0.147692</td>\n",
       "      <td>92266.6</td>\n",
       "      <td>2492.118812</td>\n",
       "    </tr>\n",
       "    <tr>\n",
       "      <th>1</th>\n",
       "      <td>2022-09-22T09:30:20.708989Z</td>\n",
       "      <td>51.539354</td>\n",
       "      <td>-0.147690</td>\n",
       "      <td>92052.6</td>\n",
       "      <td>2494.000000</td>\n",
       "    </tr>\n",
       "    <tr>\n",
       "      <th>2</th>\n",
       "      <td>2022-09-22T09:30:21.708989Z</td>\n",
       "      <td>51.539353</td>\n",
       "      <td>-0.147689</td>\n",
       "      <td>91940.9</td>\n",
       "      <td>2495.920000</td>\n",
       "    </tr>\n",
       "    <tr>\n",
       "      <th>3</th>\n",
       "      <td>2022-09-22T09:30:22.708989Z</td>\n",
       "      <td>51.539354</td>\n",
       "      <td>-0.147690</td>\n",
       "      <td>91888.0</td>\n",
       "      <td>2497.000000</td>\n",
       "    </tr>\n",
       "    <tr>\n",
       "      <th>4</th>\n",
       "      <td>2022-09-22T09:30:23.708989Z</td>\n",
       "      <td>51.539354</td>\n",
       "      <td>-0.147690</td>\n",
       "      <td>91958.9</td>\n",
       "      <td>2498.930693</td>\n",
       "    </tr>\n",
       "  </tbody>\n",
       "</table>\n",
       "</div>"
      ],
      "text/plain": [
       "                       Seconds   Latitude  Longitude  Elevation         Data\n",
       "0  2022-09-22T09:30:19.708989Z  51.539353  -0.147692    92266.6  2492.118812\n",
       "1  2022-09-22T09:30:20.708989Z  51.539354  -0.147690    92052.6  2494.000000\n",
       "2  2022-09-22T09:30:21.708989Z  51.539353  -0.147689    91940.9  2495.920000\n",
       "3  2022-09-22T09:30:22.708989Z  51.539354  -0.147690    91888.0  2497.000000\n",
       "4  2022-09-22T09:30:23.708989Z  51.539354  -0.147690    91958.9  2498.930693"
      ]
     },
     "execution_count": 3,
     "metadata": {},
     "output_type": "execute_result"
    }
   ],
   "source": [
    "df.head()"
   ]
  },
  {
   "cell_type": "code",
   "execution_count": 4,
   "id": "4f458fc2",
   "metadata": {
    "scrolled": false
   },
   "outputs": [
    {
     "data": {
      "text/plain": [
       "2226"
      ]
     },
     "execution_count": 4,
     "metadata": {},
     "output_type": "execute_result"
    }
   ],
   "source": [
    "len(df)"
   ]
  },
  {
   "cell_type": "code",
   "execution_count": 5,
   "id": "bf4edb4b",
   "metadata": {},
   "outputs": [],
   "source": [
    "df=df.dropna()"
   ]
  },
  {
   "cell_type": "code",
   "execution_count": 6,
   "id": "d423a2c3",
   "metadata": {},
   "outputs": [
    {
     "data": {
      "text/plain": [
       "2206"
      ]
     },
     "execution_count": 6,
     "metadata": {},
     "output_type": "execute_result"
    }
   ],
   "source": [
    "len(df)"
   ]
  },
  {
   "cell_type": "code",
   "execution_count": 7,
   "id": "7dce4117",
   "metadata": {},
   "outputs": [],
   "source": [
    "# Generate Locations\n",
    "#for index, row in df.iterrows():\n",
    " #   print('{{\"name\": \"location\", \"description\": \"GPS coordinates of a data point.\",\"encodingType\": \"application/vnd.geo+json\",\"location\": {{\"type\": \"Point\",\"coordinates\": [{} ,{}],\"time\": \"{} \"}}}},'.format(df['Longitude'][index],df['Latitude'][index],df['Seconds'][index]))"
   ]
  },
  {
   "cell_type": "code",
   "execution_count": 8,
   "id": "04c45023",
   "metadata": {},
   "outputs": [],
   "source": [
    "#Generate Data\n",
    "#for index, row in df.iterrows():\n",
    "#    print('{{\"phenomenonTime\": \"{}\",\"result\": {}}},'.format(df['Seconds'][index],df['Data'][index]))"
   ]
  },
  {
   "cell_type": "code",
   "execution_count": 9,
   "id": "2829def8",
   "metadata": {},
   "outputs": [],
   "source": [
    "#!pip install frost-sta-client"
   ]
  },
  {
   "cell_type": "code",
   "execution_count": 10,
   "id": "65a4d8b0",
   "metadata": {},
   "outputs": [],
   "source": [
    "import frost_sta_client as fsc"
   ]
  },
  {
   "cell_type": "code",
   "execution_count": 11,
   "id": "8dc99af3",
   "metadata": {},
   "outputs": [],
   "source": [
    "url = \"http://localhost/FROST-Server/v1.1\"\n",
    "#url = \"https://emotional.byteroad.net/FROST-Server/v1.1\""
   ]
  },
  {
   "cell_type": "code",
   "execution_count": 12,
   "id": "53a206bf",
   "metadata": {
    "scrolled": false
   },
   "outputs": [],
   "source": [
    "PASSWORD = os.environ.get('FROST_PASSWORD')\n",
    "#print(PASSWORD)"
   ]
  },
  {
   "cell_type": "code",
   "execution_count": 13,
   "id": "8efc3301",
   "metadata": {},
   "outputs": [],
   "source": [
    "auth_handler=fsc.AuthHandler(username=\"admin\",password=PASSWORD )"
   ]
  },
  {
   "cell_type": "code",
   "execution_count": 14,
   "id": "c03139e9",
   "metadata": {},
   "outputs": [],
   "source": [
    "service = fsc.SensorThingsService(url,auth_handler)"
   ]
  },
  {
   "cell_type": "code",
   "execution_count": 15,
   "id": "32a66763",
   "metadata": {},
   "outputs": [],
   "source": [
    "# Use this to delete stuff\n",
    "#things_list = service.things().query().list()\n",
    "\n",
    "#for thing in things_list:\n",
    "#    service.delete(thing)"
   ]
  },
  {
   "cell_type": "code",
   "execution_count": 16,
   "id": "8013bba8",
   "metadata": {},
   "outputs": [],
   "source": [
    "things_list = service.things().query().list()\n",
    "for thing in things_list:\n",
    "    print(\"my name is: {}\".format(thing.name))"
   ]
  },
  {
   "cell_type": "code",
   "execution_count": 17,
   "id": "994d7e33",
   "metadata": {},
   "outputs": [],
   "source": [
    "# create thing\n",
    "thing = fsc.Thing(name='Backpack',\n",
    "              description='Backpack equiped with sensors', properties={'withLocation': True})"
   ]
  },
  {
   "cell_type": "code",
   "execution_count": 18,
   "id": "0c702a2e",
   "metadata": {},
   "outputs": [],
   "source": [
    "from geojson import Point\n",
    "from geojson import dumps, loads"
   ]
  },
  {
   "cell_type": "code",
   "execution_count": 19,
   "id": "274f8dbb",
   "metadata": {
    "scrolled": false
   },
   "outputs": [],
   "source": [
    "# create locations\n",
    "locations=[]\n",
    "for index, row in df.iterrows():\n",
    "    point = Point((df['Longitude'][index], df['Latitude'][index]))\n",
    "    dump = dumps(point, sort_keys=True)\n",
    "    load=loads(dump)\n",
    "    location = fsc.Location(name=\"location\", description=\"GPS coordinates of a data point\", location=load,\n",
    "                            encoding_type='application/geo+json', properties={'time': df['Seconds'][index]})\n",
    "    locations.append(location)\n",
    "    #print (location.location)\n"
   ]
  },
  {
   "cell_type": "code",
   "execution_count": 20,
   "id": "60b4caad",
   "metadata": {
    "scrolled": true
   },
   "outputs": [],
   "source": [
    "#point = Point((df['Longitude'][0], df['Latitude'][0]))\n",
    "#print(point)\n",
    "#dump = dumps(point, sort_keys=True)\n",
    "#load=loads(dump)\n",
    "\n",
    "#location = fsc.Location(name=\"location\", description=\"GPS coordinates of a data point\", location=point,\n",
    " #                           encoding_type='application/geo+json')"
   ]
  },
  {
   "cell_type": "code",
   "execution_count": 21,
   "id": "1cd9a21a",
   "metadata": {},
   "outputs": [],
   "source": [
    "#point = Point((-0.147692, 51.539353))\n",
    "#print(load)\n",
    "#location = fsc.Location(name=\"here\", description=\"and there\", location=load, encoding_type='application/geo+json')\n",
    "#thing = fsc.Thing(name='new thing',\n",
    "#              description='I am a thing with a location',\n",
    "#              properties={'withLocation': True, 'owner': 'IOSB'})"
   ]
  },
  {
   "cell_type": "code",
   "execution_count": 22,
   "id": "bb642163",
   "metadata": {},
   "outputs": [],
   "source": [
    "thing.locations = locations"
   ]
  },
  {
   "cell_type": "code",
   "execution_count": 23,
   "id": "bf2afead",
   "metadata": {
    "scrolled": true
   },
   "outputs": [],
   "source": [
    "try:\n",
    "    service.create(thing)\n",
    "except Exception as e:\n",
    "    print(e)"
   ]
  },
  {
   "cell_type": "code",
   "execution_count": 25,
   "id": "5edf0290",
   "metadata": {},
   "outputs": [],
   "source": [
    "#Create observedProperty\n",
    "observedProperty=fsc.ObservedProperty(\n",
    "                 name='Temperature',\n",
    "                 definition='http://www.qudt.org/qudt/owl/1.0.0/quantity/Instances.html#ThermodynamicTemperature',\n",
    "                 description='The temperature.')"
   ]
  },
  {
   "cell_type": "code",
   "execution_count": 26,
   "id": "a9312c30",
   "metadata": {},
   "outputs": [],
   "source": [
    "#Create sensor\n",
    "sensor=fsc.Sensor(\n",
    "\t\t\t\tname=\"DHT22/Temperature\",\n",
    "\t\t\t\tdescription=\"Temperature sensor of a DHT22\",\n",
    "\t\t\t\tencoding_type=\"application/pdf\",\n",
    "\t\t\t\tmetadata=\"https://www.sparkfun.com/datasheets/Sensors/Temperature/DHT22.pdf\")"
   ]
  },
  {
   "cell_type": "code",
   "execution_count": 27,
   "id": "94b28a27",
   "metadata": {},
   "outputs": [],
   "source": [
    "import frost_sta_client.model.ext.unitofmeasurement\n",
    "\n",
    "unit= frost_sta_client.model.ext.unitofmeasurement.UnitOfMeasurement(\n",
    "                 name=\"Centigrade\",\n",
    "                 symbol=\"C\",\n",
    "                 definition=\"http://www.qudt.org/qudt/owl/1.0.0/unit/Instances.html#DegreeCentigrade\")\n"
   ]
  },
  {
   "cell_type": "code",
   "execution_count": 28,
   "id": "e959e578",
   "metadata": {},
   "outputs": [],
   "source": [
    "datastream = fsc.Datastream(name='CO2 Temperature',\n",
    "              description='The temperature in CO2', \n",
    "                            observation_type=\"http://www.opengis.net/def/observationType/OGC-OM/2.0/OM_Measurement\",\n",
    "                           unit_of_measurement=unit,\n",
    "                            observed_property=observedProperty, sensor=sensor, thing=thing)"
   ]
  },
  {
   "cell_type": "code",
   "execution_count": 29,
   "id": "00e1dde8",
   "metadata": {
    "scrolled": true
   },
   "outputs": [],
   "source": [
    "service.create(datastream)"
   ]
  },
  {
   "cell_type": "code",
   "execution_count": 30,
   "id": "5ba04503",
   "metadata": {},
   "outputs": [],
   "source": [
    " \n",
    "    dav = fsc.model.ext.data_array_value.DataArrayValue()\n",
    "\n",
    "    components = {dav.Property.PHENOMENON_TIME, dav.Property.RESULT, dav.Property.FEATURE_OF_INTEREST}\n",
    "    #components = {dav.Property.PHENOMENON_TIME, dav.Property.RESULT}\n",
    "    dav.components = components\n",
    "    dav.datastream = datastream\n",
    "        \n",
    "    for index, row in df.iterrows():\n",
    "            dump = dumps(df['Data'][index], sort_keys=True)\n",
    "            load=loads(dump)\n",
    "        \n",
    "            point = Point((df['Longitude'][index], df['Latitude'][index]))\n",
    "            dump2 = dumps(point, sort_keys=True)\n",
    "            load2=loads(dump2)\n",
    "            \n",
    "            \n",
    "            foi = fsc.FeatureOfInterest(name=\"gps location\", \n",
    "                                        description=\"GPS coordinates of a data point.\", \n",
    "                                        encoding_type=\"application/vnd.geo+json\",\n",
    "                                       feature=load2)\n",
    "            service.create(foi)\n",
    "            #print(foi.feature)\n",
    "        \n",
    "            obs = fsc.Observation(result= load,\n",
    "                           phenomenon_time=df['Seconds'][index],\n",
    "                           datastream=datastream, feature_of_interest=foi)\n",
    "            #print(obs)\n",
    "            #print(df['Data'][index],df['Seconds'][index])\n",
    "            dav.add_observation(obs)\n",
    "    \n",
    "    dad = fsc.model.ext.data_array_document.DataArrayDocument()\n",
    "    dad.add_data_array_value(dav)\n",
    "    result_list = service.observations().create(dad)"
   ]
  },
  {
   "cell_type": "code",
   "execution_count": 31,
   "id": "74f69692",
   "metadata": {},
   "outputs": [],
   "source": [
    "# repeat for humidity\n",
    "df = pd.read_csv ('CO2V2.Humidity.csv')"
   ]
  },
  {
   "cell_type": "code",
   "execution_count": 32,
   "id": "c3accc36",
   "metadata": {},
   "outputs": [],
   "source": [
    "df=df.dropna()"
   ]
  },
  {
   "cell_type": "code",
   "execution_count": 33,
   "id": "8518b4ce",
   "metadata": {},
   "outputs": [
    {
     "data": {
      "text/plain": [
       "2206"
      ]
     },
     "execution_count": 33,
     "metadata": {},
     "output_type": "execute_result"
    }
   ],
   "source": [
    "len(df)"
   ]
  },
  {
   "cell_type": "code",
   "execution_count": 34,
   "id": "46dfa09e",
   "metadata": {},
   "outputs": [],
   "source": [
    "#Create observedProperty\n",
    "observedProperty=fsc.ObservedProperty(\n",
    "                 name='Relative Humidity',\n",
    "                 definition='https://en.wikipedia.org/wiki/Relative_humidity',\n",
    "                 description='The relative humidity')"
   ]
  },
  {
   "cell_type": "code",
   "execution_count": 35,
   "id": "951647f9",
   "metadata": {},
   "outputs": [],
   "source": [
    "#Create sensor\n",
    "sensor=fsc.Sensor(\n",
    "\t\t\t\tname=\"DHT22/Humidity\",\n",
    "\t\t\t\tdescription=\"Relative humidity sensor of a DHT22\",\n",
    "\t\t\t\tencoding_type=\"application/pdf\",\n",
    "\t\t\t\tmetadata=\"https://www.sparkfun.com/datasheets/Sensors/Temperature/DHT22.pdf\")"
   ]
  },
  {
   "cell_type": "code",
   "execution_count": 36,
   "id": "8100a81e",
   "metadata": {},
   "outputs": [],
   "source": [
    "import frost_sta_client.model.ext.unitofmeasurement\n",
    "\n",
    "unit= frost_sta_client.model.ext.unitofmeasurement.UnitOfMeasurement(\n",
    "                 name=\"percentage\",\n",
    "                 symbol=\"%\",\n",
    "                 definition=\"hhttps://en.wikipedia.org/wiki/Percentage\")"
   ]
  },
  {
   "cell_type": "code",
   "execution_count": 37,
   "id": "1d9588f4",
   "metadata": {},
   "outputs": [],
   "source": [
    "datastream = fsc.Datastream(name='CO2 Humidity',\n",
    "              description='The Humidity in CO2', \n",
    "                            observation_type=\"http://www.opengis.net/def/observationType/OGC-OM/2.0/OM_Measurement\",\n",
    "                           unit_of_measurement=unit,\n",
    "                            observed_property=observedProperty, sensor=sensor, thing=thing)"
   ]
  },
  {
   "cell_type": "code",
   "execution_count": 38,
   "id": "598b33ed",
   "metadata": {},
   "outputs": [],
   "source": [
    "service.create(datastream)"
   ]
  },
  {
   "cell_type": "code",
   "execution_count": 39,
   "id": "607da4e3",
   "metadata": {},
   "outputs": [],
   "source": [
    " \n",
    "    dav = fsc.model.ext.data_array_value.DataArrayValue()\n",
    "\n",
    "    components = {dav.Property.PHENOMENON_TIME, dav.Property.RESULT}\n",
    "    dav.components = components\n",
    "    dav.datastream = datastream\n",
    "        \n",
    "    for index, row in df.iterrows():\n",
    "            dump = dumps(df['Data'][index], sort_keys=True)\n",
    "            load=loads(dump)\n",
    "        \n",
    "\n",
    "            point = Point((df['Longitude'][index], df['Latitude'][index]))\n",
    "            dump2 = dumps(point, sort_keys=True)\n",
    "            load2=loads(dump2)\n",
    "            \n",
    "            \n",
    "            foi = fsc.FeatureOfInterest(name=\"gps location\", \n",
    "                                        description=\"GPS coordinates of a data point.\", \n",
    "                                        encoding_type=\"application/vnd.geo+json\",\n",
    "                                       feature=load2)\n",
    "            service.create(foi)      \n",
    "        \n",
    "            obs = fsc.Observation(result= load,\n",
    "                           phenomenon_time=df['Seconds'][index],\n",
    "                           datastream=datastream, feature_of_interest=foi)\n",
    "            #print(obs)\n",
    "            #print(df['Data'][index],df['Seconds'][index])\n",
    "            dav.add_observation(obs)\n",
    "    \n",
    "    dad = fsc.model.ext.data_array_document.DataArrayDocument()\n",
    "    dad.add_data_array_value(dav)\n",
    "    result_list = service.observations().create(dad)"
   ]
  },
  {
   "cell_type": "code",
   "execution_count": null,
   "id": "8c3995af",
   "metadata": {},
   "outputs": [],
   "source": []
  },
  {
   "cell_type": "code",
   "execution_count": null,
   "id": "a66d6d58",
   "metadata": {},
   "outputs": [],
   "source": []
  }
 ],
 "metadata": {
  "kernelspec": {
   "display_name": "Python 3 (ipykernel)",
   "language": "python",
   "name": "python3"
  },
  "language_info": {
   "codemirror_mode": {
    "name": "ipython",
    "version": 3
   },
   "file_extension": ".py",
   "mimetype": "text/x-python",
   "name": "python",
   "nbconvert_exporter": "python",
   "pygments_lexer": "ipython3",
   "version": "3.10.12"
  }
 },
 "nbformat": 4,
 "nbformat_minor": 5
}
